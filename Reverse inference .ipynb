{
 "cells": [
  {
   "cell_type": "code",
   "execution_count": null,
   "id": "3b7fe6c8",
   "metadata": {},
   "outputs": [],
   "source": [
    "#dataset taken from https://www.kaggle.com/competitions/mlsp-2014-mri/data"
   ]
  },
  {
   "cell_type": "code",
   "execution_count": 1,
   "id": "061b953c",
   "metadata": {},
   "outputs": [],
   "source": [
    "#importing basic libraries\n",
    "import pandas as pd\n",
    "import numpy as np\n",
    "import matplotlib.pyplot as plt"
   ]
  },
  {
   "cell_type": "code",
   "execution_count": 14,
   "id": "946205a0",
   "metadata": {},
   "outputs": [],
   "source": [
    "#importing machine learning libary\n",
    "\n",
    "from sklearn.model_selection import KFold, cross_val_score, train_test_split\n",
    "from sklearn.neighbors import KNeighborsClassifier\n",
    "from sklearn.naive_bayes import MultinomialNB\n",
    "from sklearn.ensemble import RandomForestClassifier\n",
    "from sklearn.model_selection import GridSearchCV\n",
    "from sklearn.pipeline import Pipeline\n",
    "from sklearn.metrics import classification_report, confusion_matrix\n",
    "from sklearn.svm import SVC"
   ]
  },
  {
   "cell_type": "code",
   "execution_count": 3,
   "id": "900954ca",
   "metadata": {},
   "outputs": [],
   "source": [
    "#importing training data\n",
    "labels_train = pd.read_csv('train_labels.csv')\n",
    "SBM_train = pd.read_csv('train_SBM.csv')"
   ]
  },
  {
   "cell_type": "code",
   "execution_count": 32,
   "id": "7d5ed6ec",
   "metadata": {},
   "outputs": [],
   "source": [
    "#importing testing data\n",
    "SBM_test = pd.read_csv('test_SBM.csv')"
   ]
  },
  {
   "cell_type": "code",
   "execution_count": 5,
   "id": "d181d913",
   "metadata": {},
   "outputs": [
    {
     "data": {
      "text/html": [
       "<div>\n",
       "<style scoped>\n",
       "    .dataframe tbody tr th:only-of-type {\n",
       "        vertical-align: middle;\n",
       "    }\n",
       "\n",
       "    .dataframe tbody tr th {\n",
       "        vertical-align: top;\n",
       "    }\n",
       "\n",
       "    .dataframe thead th {\n",
       "        text-align: right;\n",
       "    }\n",
       "</style>\n",
       "<table border=\"1\" class=\"dataframe\">\n",
       "  <thead>\n",
       "    <tr style=\"text-align: right;\">\n",
       "      <th></th>\n",
       "      <th>Id</th>\n",
       "      <th>Class</th>\n",
       "    </tr>\n",
       "  </thead>\n",
       "  <tbody>\n",
       "    <tr>\n",
       "      <th>0</th>\n",
       "      <td>120873</td>\n",
       "      <td>1</td>\n",
       "    </tr>\n",
       "    <tr>\n",
       "      <th>1</th>\n",
       "      <td>135376</td>\n",
       "      <td>0</td>\n",
       "    </tr>\n",
       "    <tr>\n",
       "      <th>2</th>\n",
       "      <td>139149</td>\n",
       "      <td>0</td>\n",
       "    </tr>\n",
       "    <tr>\n",
       "      <th>3</th>\n",
       "      <td>146791</td>\n",
       "      <td>0</td>\n",
       "    </tr>\n",
       "    <tr>\n",
       "      <th>4</th>\n",
       "      <td>153870</td>\n",
       "      <td>1</td>\n",
       "    </tr>\n",
       "  </tbody>\n",
       "</table>\n",
       "</div>"
      ],
      "text/plain": [
       "       Id  Class\n",
       "0  120873      1\n",
       "1  135376      0\n",
       "2  139149      0\n",
       "3  146791      0\n",
       "4  153870      1"
      ]
     },
     "execution_count": 5,
     "metadata": {},
     "output_type": "execute_result"
    }
   ],
   "source": [
    "labels_train.head()"
   ]
  },
  {
   "cell_type": "code",
   "execution_count": 6,
   "id": "51dbd32a",
   "metadata": {},
   "outputs": [
    {
     "data": {
      "text/html": [
       "<div>\n",
       "<style scoped>\n",
       "    .dataframe tbody tr th:only-of-type {\n",
       "        vertical-align: middle;\n",
       "    }\n",
       "\n",
       "    .dataframe tbody tr th {\n",
       "        vertical-align: top;\n",
       "    }\n",
       "\n",
       "    .dataframe thead th {\n",
       "        text-align: right;\n",
       "    }\n",
       "</style>\n",
       "<table border=\"1\" class=\"dataframe\">\n",
       "  <thead>\n",
       "    <tr style=\"text-align: right;\">\n",
       "      <th></th>\n",
       "      <th>SBM_map1</th>\n",
       "      <th>SBM_map2</th>\n",
       "      <th>SBM_map3</th>\n",
       "      <th>SBM_map4</th>\n",
       "      <th>SBM_map5</th>\n",
       "      <th>SBM_map6</th>\n",
       "      <th>SBM_map7</th>\n",
       "      <th>SBM_map8</th>\n",
       "      <th>SBM_map10</th>\n",
       "      <th>SBM_map13</th>\n",
       "      <th>...</th>\n",
       "      <th>SBM_map55</th>\n",
       "      <th>SBM_map61</th>\n",
       "      <th>SBM_map64</th>\n",
       "      <th>SBM_map67</th>\n",
       "      <th>SBM_map69</th>\n",
       "      <th>SBM_map71</th>\n",
       "      <th>SBM_map72</th>\n",
       "      <th>SBM_map73</th>\n",
       "      <th>SBM_map74</th>\n",
       "      <th>SBM_map75</th>\n",
       "    </tr>\n",
       "  </thead>\n",
       "  <tbody>\n",
       "    <tr>\n",
       "      <th>0</th>\n",
       "      <td>0.725065</td>\n",
       "      <td>-0.639254</td>\n",
       "      <td>0.353069</td>\n",
       "      <td>-0.981707</td>\n",
       "      <td>-1.419971</td>\n",
       "      <td>-0.441321</td>\n",
       "      <td>-0.264192</td>\n",
       "      <td>0.711579</td>\n",
       "      <td>0.641798</td>\n",
       "      <td>0.339658</td>\n",
       "      <td>...</td>\n",
       "      <td>-0.078220</td>\n",
       "      <td>-0.982331</td>\n",
       "      <td>1.070363</td>\n",
       "      <td>0.220316</td>\n",
       "      <td>0.776855</td>\n",
       "      <td>-2.022404</td>\n",
       "      <td>1.203256</td>\n",
       "      <td>1.083516</td>\n",
       "      <td>0.564201</td>\n",
       "      <td>-0.002006</td>\n",
       "    </tr>\n",
       "    <tr>\n",
       "      <th>1</th>\n",
       "      <td>-1.328855</td>\n",
       "      <td>0.502970</td>\n",
       "      <td>0.013232</td>\n",
       "      <td>1.128496</td>\n",
       "      <td>-0.070738</td>\n",
       "      <td>0.398476</td>\n",
       "      <td>-0.466051</td>\n",
       "      <td>-0.435455</td>\n",
       "      <td>0.342847</td>\n",
       "      <td>-0.672254</td>\n",
       "      <td>...</td>\n",
       "      <td>0.989571</td>\n",
       "      <td>-0.057543</td>\n",
       "      <td>0.371701</td>\n",
       "      <td>-0.513081</td>\n",
       "      <td>-0.457550</td>\n",
       "      <td>1.476216</td>\n",
       "      <td>0.381052</td>\n",
       "      <td>0.163436</td>\n",
       "      <td>0.403782</td>\n",
       "      <td>-0.295125</td>\n",
       "    </tr>\n",
       "    <tr>\n",
       "      <th>2</th>\n",
       "      <td>0.732268</td>\n",
       "      <td>-1.241554</td>\n",
       "      <td>0.654942</td>\n",
       "      <td>-0.289216</td>\n",
       "      <td>0.158316</td>\n",
       "      <td>0.029165</td>\n",
       "      <td>1.439242</td>\n",
       "      <td>-0.832816</td>\n",
       "      <td>1.285468</td>\n",
       "      <td>-2.132901</td>\n",
       "      <td>...</td>\n",
       "      <td>-0.257114</td>\n",
       "      <td>0.597229</td>\n",
       "      <td>1.220756</td>\n",
       "      <td>-0.059213</td>\n",
       "      <td>-0.435494</td>\n",
       "      <td>-0.092971</td>\n",
       "      <td>1.090910</td>\n",
       "      <td>-0.448562</td>\n",
       "      <td>-0.508497</td>\n",
       "      <td>0.350434</td>\n",
       "    </tr>\n",
       "    <tr>\n",
       "      <th>3</th>\n",
       "      <td>-0.343917</td>\n",
       "      <td>-1.052519</td>\n",
       "      <td>-1.150521</td>\n",
       "      <td>0.765989</td>\n",
       "      <td>0.923129</td>\n",
       "      <td>0.674052</td>\n",
       "      <td>-0.492673</td>\n",
       "      <td>1.282388</td>\n",
       "      <td>-1.914583</td>\n",
       "      <td>-1.269851</td>\n",
       "      <td>...</td>\n",
       "      <td>-0.295110</td>\n",
       "      <td>0.829697</td>\n",
       "      <td>-0.450726</td>\n",
       "      <td>-0.791032</td>\n",
       "      <td>-1.115821</td>\n",
       "      <td>-0.022296</td>\n",
       "      <td>-0.245844</td>\n",
       "      <td>-0.705539</td>\n",
       "      <td>0.061344</td>\n",
       "      <td>0.448966</td>\n",
       "    </tr>\n",
       "    <tr>\n",
       "      <th>4</th>\n",
       "      <td>-0.208685</td>\n",
       "      <td>-0.562697</td>\n",
       "      <td>-0.362164</td>\n",
       "      <td>1.025571</td>\n",
       "      <td>0.151690</td>\n",
       "      <td>-0.130410</td>\n",
       "      <td>-1.105922</td>\n",
       "      <td>0.502029</td>\n",
       "      <td>-0.097735</td>\n",
       "      <td>1.561833</td>\n",
       "      <td>...</td>\n",
       "      <td>1.342273</td>\n",
       "      <td>-0.978412</td>\n",
       "      <td>0.158492</td>\n",
       "      <td>0.889753</td>\n",
       "      <td>0.795368</td>\n",
       "      <td>0.738788</td>\n",
       "      <td>0.475415</td>\n",
       "      <td>2.340384</td>\n",
       "      <td>2.516038</td>\n",
       "      <td>-0.551440</td>\n",
       "    </tr>\n",
       "    <tr>\n",
       "      <th>...</th>\n",
       "      <td>...</td>\n",
       "      <td>...</td>\n",
       "      <td>...</td>\n",
       "      <td>...</td>\n",
       "      <td>...</td>\n",
       "      <td>...</td>\n",
       "      <td>...</td>\n",
       "      <td>...</td>\n",
       "      <td>...</td>\n",
       "      <td>...</td>\n",
       "      <td>...</td>\n",
       "      <td>...</td>\n",
       "      <td>...</td>\n",
       "      <td>...</td>\n",
       "      <td>...</td>\n",
       "      <td>...</td>\n",
       "      <td>...</td>\n",
       "      <td>...</td>\n",
       "      <td>...</td>\n",
       "      <td>...</td>\n",
       "      <td>...</td>\n",
       "    </tr>\n",
       "    <tr>\n",
       "      <th>81</th>\n",
       "      <td>-0.271233</td>\n",
       "      <td>-0.441043</td>\n",
       "      <td>-2.241210</td>\n",
       "      <td>-2.005569</td>\n",
       "      <td>0.118265</td>\n",
       "      <td>-0.665987</td>\n",
       "      <td>-0.515736</td>\n",
       "      <td>0.526771</td>\n",
       "      <td>-0.953451</td>\n",
       "      <td>-0.063827</td>\n",
       "      <td>...</td>\n",
       "      <td>0.512424</td>\n",
       "      <td>0.826910</td>\n",
       "      <td>-0.225792</td>\n",
       "      <td>0.369724</td>\n",
       "      <td>-0.565693</td>\n",
       "      <td>-0.045074</td>\n",
       "      <td>1.094329</td>\n",
       "      <td>-0.345906</td>\n",
       "      <td>-0.014453</td>\n",
       "      <td>0.567717</td>\n",
       "    </tr>\n",
       "    <tr>\n",
       "      <th>82</th>\n",
       "      <td>-0.703690</td>\n",
       "      <td>-0.173818</td>\n",
       "      <td>-1.322392</td>\n",
       "      <td>0.180619</td>\n",
       "      <td>0.106367</td>\n",
       "      <td>0.975193</td>\n",
       "      <td>-0.933527</td>\n",
       "      <td>-0.501655</td>\n",
       "      <td>-0.376133</td>\n",
       "      <td>-0.373754</td>\n",
       "      <td>...</td>\n",
       "      <td>-0.430485</td>\n",
       "      <td>0.482055</td>\n",
       "      <td>0.073327</td>\n",
       "      <td>-0.455141</td>\n",
       "      <td>-0.681228</td>\n",
       "      <td>0.948131</td>\n",
       "      <td>0.443656</td>\n",
       "      <td>0.092495</td>\n",
       "      <td>0.683039</td>\n",
       "      <td>0.977018</td>\n",
       "    </tr>\n",
       "    <tr>\n",
       "      <th>83</th>\n",
       "      <td>-1.925477</td>\n",
       "      <td>-1.256874</td>\n",
       "      <td>0.731867</td>\n",
       "      <td>-1.462804</td>\n",
       "      <td>-0.486504</td>\n",
       "      <td>-0.251175</td>\n",
       "      <td>-0.523021</td>\n",
       "      <td>-0.408961</td>\n",
       "      <td>0.299555</td>\n",
       "      <td>-1.448230</td>\n",
       "      <td>...</td>\n",
       "      <td>0.314668</td>\n",
       "      <td>-0.114078</td>\n",
       "      <td>-0.476524</td>\n",
       "      <td>-0.556896</td>\n",
       "      <td>0.505738</td>\n",
       "      <td>0.873278</td>\n",
       "      <td>0.040048</td>\n",
       "      <td>0.211690</td>\n",
       "      <td>0.536933</td>\n",
       "      <td>-0.424864</td>\n",
       "    </tr>\n",
       "    <tr>\n",
       "      <th>84</th>\n",
       "      <td>1.308627</td>\n",
       "      <td>-0.402656</td>\n",
       "      <td>0.844227</td>\n",
       "      <td>0.386164</td>\n",
       "      <td>-0.335097</td>\n",
       "      <td>-0.072352</td>\n",
       "      <td>0.462689</td>\n",
       "      <td>0.604192</td>\n",
       "      <td>0.458415</td>\n",
       "      <td>0.117089</td>\n",
       "      <td>...</td>\n",
       "      <td>0.453766</td>\n",
       "      <td>-0.163926</td>\n",
       "      <td>0.953385</td>\n",
       "      <td>0.402673</td>\n",
       "      <td>0.025229</td>\n",
       "      <td>-1.975778</td>\n",
       "      <td>0.112912</td>\n",
       "      <td>-2.014501</td>\n",
       "      <td>-1.661052</td>\n",
       "      <td>-0.421040</td>\n",
       "    </tr>\n",
       "    <tr>\n",
       "      <th>85</th>\n",
       "      <td>1.118996</td>\n",
       "      <td>0.643585</td>\n",
       "      <td>1.426277</td>\n",
       "      <td>1.169870</td>\n",
       "      <td>0.468608</td>\n",
       "      <td>-2.052239</td>\n",
       "      <td>1.522190</td>\n",
       "      <td>0.570139</td>\n",
       "      <td>-0.596826</td>\n",
       "      <td>0.222050</td>\n",
       "      <td>...</td>\n",
       "      <td>0.943726</td>\n",
       "      <td>-0.626201</td>\n",
       "      <td>0.229092</td>\n",
       "      <td>1.358773</td>\n",
       "      <td>0.396054</td>\n",
       "      <td>-0.251358</td>\n",
       "      <td>-1.046134</td>\n",
       "      <td>-1.726338</td>\n",
       "      <td>-2.249566</td>\n",
       "      <td>-1.125141</td>\n",
       "    </tr>\n",
       "  </tbody>\n",
       "</table>\n",
       "<p>86 rows × 32 columns</p>\n",
       "</div>"
      ],
      "text/plain": [
       "    SBM_map1  SBM_map2  SBM_map3  SBM_map4  SBM_map5  SBM_map6  SBM_map7  \\\n",
       "0   0.725065 -0.639254  0.353069 -0.981707 -1.419971 -0.441321 -0.264192   \n",
       "1  -1.328855  0.502970  0.013232  1.128496 -0.070738  0.398476 -0.466051   \n",
       "2   0.732268 -1.241554  0.654942 -0.289216  0.158316  0.029165  1.439242   \n",
       "3  -0.343917 -1.052519 -1.150521  0.765989  0.923129  0.674052 -0.492673   \n",
       "4  -0.208685 -0.562697 -0.362164  1.025571  0.151690 -0.130410 -1.105922   \n",
       "..       ...       ...       ...       ...       ...       ...       ...   \n",
       "81 -0.271233 -0.441043 -2.241210 -2.005569  0.118265 -0.665987 -0.515736   \n",
       "82 -0.703690 -0.173818 -1.322392  0.180619  0.106367  0.975193 -0.933527   \n",
       "83 -1.925477 -1.256874  0.731867 -1.462804 -0.486504 -0.251175 -0.523021   \n",
       "84  1.308627 -0.402656  0.844227  0.386164 -0.335097 -0.072352  0.462689   \n",
       "85  1.118996  0.643585  1.426277  1.169870  0.468608 -2.052239  1.522190   \n",
       "\n",
       "    SBM_map8  SBM_map10  SBM_map13  ...  SBM_map55  SBM_map61  SBM_map64  \\\n",
       "0   0.711579   0.641798   0.339658  ...  -0.078220  -0.982331   1.070363   \n",
       "1  -0.435455   0.342847  -0.672254  ...   0.989571  -0.057543   0.371701   \n",
       "2  -0.832816   1.285468  -2.132901  ...  -0.257114   0.597229   1.220756   \n",
       "3   1.282388  -1.914583  -1.269851  ...  -0.295110   0.829697  -0.450726   \n",
       "4   0.502029  -0.097735   1.561833  ...   1.342273  -0.978412   0.158492   \n",
       "..       ...        ...        ...  ...        ...        ...        ...   \n",
       "81  0.526771  -0.953451  -0.063827  ...   0.512424   0.826910  -0.225792   \n",
       "82 -0.501655  -0.376133  -0.373754  ...  -0.430485   0.482055   0.073327   \n",
       "83 -0.408961   0.299555  -1.448230  ...   0.314668  -0.114078  -0.476524   \n",
       "84  0.604192   0.458415   0.117089  ...   0.453766  -0.163926   0.953385   \n",
       "85  0.570139  -0.596826   0.222050  ...   0.943726  -0.626201   0.229092   \n",
       "\n",
       "    SBM_map67  SBM_map69  SBM_map71  SBM_map72  SBM_map73  SBM_map74  \\\n",
       "0    0.220316   0.776855  -2.022404   1.203256   1.083516   0.564201   \n",
       "1   -0.513081  -0.457550   1.476216   0.381052   0.163436   0.403782   \n",
       "2   -0.059213  -0.435494  -0.092971   1.090910  -0.448562  -0.508497   \n",
       "3   -0.791032  -1.115821  -0.022296  -0.245844  -0.705539   0.061344   \n",
       "4    0.889753   0.795368   0.738788   0.475415   2.340384   2.516038   \n",
       "..        ...        ...        ...        ...        ...        ...   \n",
       "81   0.369724  -0.565693  -0.045074   1.094329  -0.345906  -0.014453   \n",
       "82  -0.455141  -0.681228   0.948131   0.443656   0.092495   0.683039   \n",
       "83  -0.556896   0.505738   0.873278   0.040048   0.211690   0.536933   \n",
       "84   0.402673   0.025229  -1.975778   0.112912  -2.014501  -1.661052   \n",
       "85   1.358773   0.396054  -0.251358  -1.046134  -1.726338  -2.249566   \n",
       "\n",
       "    SBM_map75  \n",
       "0   -0.002006  \n",
       "1   -0.295125  \n",
       "2    0.350434  \n",
       "3    0.448966  \n",
       "4   -0.551440  \n",
       "..        ...  \n",
       "81   0.567717  \n",
       "82   0.977018  \n",
       "83  -0.424864  \n",
       "84  -0.421040  \n",
       "85  -1.125141  \n",
       "\n",
       "[86 rows x 32 columns]"
      ]
     },
     "execution_count": 6,
     "metadata": {},
     "output_type": "execute_result"
    }
   ],
   "source": [
    "SBM_train.iloc[:, 1:]"
   ]
  },
  {
   "cell_type": "code",
   "execution_count": 7,
   "id": "285e733c",
   "metadata": {
    "scrolled": true
   },
   "outputs": [],
   "source": [
    "#splitting the data into testing and training data to test for accuracy \n",
    "X = SBM_train.iloc[:, 1:]\n",
    "y = labels_train[\"Class\"]\n",
    "\n",
    "#the training data needs to be split because we do not have the labels for the training data\n",
    "#in order to calculate accuracy we need to see how well the model predicts\n",
    "X_train, X_test, y_train, y_test = train_test_split(X, y, random_state = 35)"
   ]
  },
  {
   "cell_type": "code",
   "execution_count": 8,
   "id": "363dfabd",
   "metadata": {
    "scrolled": false
   },
   "outputs": [
    {
     "name": "stdout",
     "output_type": "stream",
     "text": [
      "Support Vector Classifier test accuracy 0.727\n"
     ]
    }
   ],
   "source": [
    "#starting off with a sinlge model to try and see if the model can work on the data\n",
    "\n",
    "model = SVC(C = 8)\n",
    "model.fit(X_train, y_train)\n",
    "test_score = model.score(X_test, y_test)\n",
    "print(f'Support Vector Classifier test accuracy {test_score:.3}')"
   ]
  },
  {
   "cell_type": "code",
   "execution_count": 37,
   "id": "27d6461f",
   "metadata": {},
   "outputs": [],
   "source": [
    "#introducing several models to compare\n",
    "\n",
    "models = {'KNN': KNeighborsClassifier(n_neighbors = 8), 'Random Forest': RandomForestClassifier(), 'SVC': SVC()}"
   ]
  },
  {
   "cell_type": "code",
   "execution_count": 38,
   "id": "6b75e762",
   "metadata": {
    "scrolled": true
   },
   "outputs": [
    {
     "name": "stdout",
     "output_type": "stream",
     "text": [
      "KNN test accuracy 0.591\n",
      "Random Forest test accuracy 0.682\n",
      "SVC test accuracy 0.682\n"
     ]
    }
   ],
   "source": [
    "#calculating the inital model accuracy for each model, before parameter tuning \n",
    "for name, model in models.items():\n",
    "    model.fit(X_train, y_train)\n",
    "    test_score = model.score(X_test, y_test)\n",
    "    print(f'{name} test accuracy {test_score:.3}')\n",
    "    "
   ]
  },
  {
   "cell_type": "code",
   "execution_count": 39,
   "id": "6e3eda9a",
   "metadata": {
    "scrolled": true
   },
   "outputs": [
    {
     "data": {
      "image/png": "[encoded data removed]",
      "text/plain": [
       "<Figure size 432x288 with 1 Axes>"
      ]
     },
     "metadata": {
      "needs_background": "light"
     },
     "output_type": "display_data"
    }
   ],
   "source": [
    "\n",
    "results = []\n",
    "for model in models.values():\n",
    "    kf = KFold(n_splits = 5, random_state = 35, shuffle = True)\n",
    "    cv_score = cross_val_score(model, X_train, y_train, cv = kf)\n",
    "    results.append(cv_score)\n",
    "\n",
    "# a general overveiw of how the difference in accuracies \n",
    "plt.boxplot(results, labels=models.keys())\n",
    "plt.ylabel('Accuracy score')\n",
    "plt.xlabel('Machine learning model')\n",
    "plt.title('Initial comparison of different ML models')\n",
    "plt.show()"
   ]
  },
  {
   "cell_type": "code",
   "execution_count": null,
   "id": "a085469e",
   "metadata": {},
   "outputs": [],
   "source": []
  },
  {
   "cell_type": "markdown",
   "id": "dec0982a",
   "metadata": {},
   "source": [
    "## Hyperparamater tuning "
   ]
  },
  {
   "cell_type": "markdown",
   "id": "91097941",
   "metadata": {},
   "source": [
    "### 1. Support vector classifier "
   ]
  },
  {
   "cell_type": "code",
   "execution_count": 58,
   "id": "49acbc42",
   "metadata": {
    "scrolled": true
   },
   "outputs": [
    {
     "data": {
      "image/png": "[encoded data removed]",
      "text/plain": [
       "<Figure size 432x288 with 1 Axes>"
      ]
     },
     "metadata": {
      "needs_background": "light"
     },
     "output_type": "display_data"
    }
   ],
   "source": [
    "#comparing the model accuracy for different values of c\n",
    "\n",
    "C = np.linspace(1, 10, 10)\n",
    "scores = []\n",
    "\n",
    "for c in C:\n",
    "    model = SVC(C = c)\n",
    "    model.fit(X_train, y_train)\n",
    "    test_score = model.score(X_test, y_test)\n",
    "    scores.append(test_score)\n",
    "    \n",
    "plt.figure()\n",
    "plt.plot(C, scores, marker = '.', color = 'black')\n",
    "plt.ylabel('Accuracy score')\n",
    "plt.xlabel('Regularization parameter (C)')\n",
    "plt.title('Test accuracy of SVC with different parameter values')\n",
    "plt.show()"
   ]
  },
  {
   "cell_type": "code",
   "execution_count": 62,
   "id": "5ff4d483",
   "metadata": {
    "scrolled": false
   },
   "outputs": [
    {
     "data": {
      "image/png": "[encoded data removed]",
      "text/plain": [
       "<Figure size 432x288 with 1 Axes>"
      ]
     },
     "metadata": {
      "needs_background": "light"
     },
     "output_type": "display_data"
    }
   ],
   "source": [
    "#since the training and testing accuracy is important to balance, I compare both \n",
    "train_accuracies = {}\n",
    "test_accuracies = {}\n",
    "C = np.arange(1, 10)\n",
    "\n",
    "#trying different values for the model paramter c, which is the number of regularizing parameters used to classify a datum\n",
    "for c in C:\n",
    "    SVM = SVC(C = c)\n",
    "    SVM.fit(X_train, y_train)\n",
    "    train_accuracies[c] = SVM.score(X_train, y_train)\n",
    "    test_accuracies[c] = SVM.score(X_test, y_test)\n",
    "\n",
    "#plotting the accuracies using different parameter values to account for underfitting or overfitting\n",
    "plt.title(\"SVM: Varying numbers of regularizing paramters\")\n",
    "plt.plot(C, train_accuracies.values(), label = 'Training accuracy')\n",
    "plt.plot(C, test_accuracies.values(), label = 'Testing accuracy')\n",
    "plt.legend()\n",
    "plt.xlabel(\"Number of parameters C\")\n",
    "plt.ylabel(\"Accuracy\")\n",
    "plt.show()"
   ]
  },
  {
   "cell_type": "code",
   "execution_count": 74,
   "id": "e8a64947",
   "metadata": {},
   "outputs": [
    {
     "name": "stdout",
     "output_type": "stream",
     "text": [
      "{'C': 10, 'gamma': 0.01, 'kernel': 'rbf'} 0.7346153846153847\n"
     ]
    }
   ],
   "source": [
    "#tuning for only one parameter doesn't give us very credible results so I use Cross validation to tune for several paramters.\n",
    "kf = KFold(n_splits = 5, shuffle = True, random_state=43)\n",
    "param_grid = {'C': [0.1,1, 10, 100], 'gamma': [1,0.1,0.01,0.001],'kernel': ['rbf', 'poly', 'sigmoid']}\n",
    "\n",
    "svm = SVC()\n",
    "svm_cv = GridSearchCV(svm, param_grid, cv = kf)\n",
    "svm_cv.fit(X_train, y_train)\n",
    "print(svm_cv.best_params_, svm_cv.best_score_)"
   ]
  },
  {
   "cell_type": "markdown",
   "id": "ad3d85e9",
   "metadata": {},
   "source": [
    "## KNearest neighbours"
   ]
  },
  {
   "cell_type": "code",
   "execution_count": 15,
   "id": "f409271e",
   "metadata": {},
   "outputs": [
    {
     "data": {
      "image/png": "[encoded data removed]",
      "text/plain": [
       "<Figure size 432x288 with 1 Axes>"
      ]
     },
     "metadata": {
      "needs_background": "light"
     },
     "output_type": "display_data"
    }
   ],
   "source": [
    "#paramter tuning for KNN\n",
    "train_accuracies = {}\n",
    "test_accuracies = {}\n",
    "neighbors = np.arange(1, 50, 20)\n",
    "\n",
    "#trying different values for the model paramter n_neighbors, which is the number of neighbors used to classify a datum\n",
    "for n in neighbors:\n",
    "    KNN = KNeighborsClassifier(n_neighbors = n)\n",
    "    KNN.fit(X_train, y_train)\n",
    "    train_accuracies[n] = KNN.score(X_train, y_train)\n",
    "    test_accuracies[n] = KNN.score(X_test, y_test)\n",
    "\n",
    "#plotting the accuracies using different parameter values to account for underfitting or overfitting\n",
    "plt.title(\"KNN: Varying numbers of neighbors\")\n",
    "plt.plot(neighbors, train_accuracies.values(), label = 'Training accuracy')\n",
    "plt.plot(neighbors, test_accuracies.values(), label = 'Testing accuracy')\n",
    "plt.legend()\n",
    "plt.xlabel(\"Number of Neighbors\")\n",
    "plt.ylabel(\"Accuracy\")\n",
    "plt.show()"
   ]
  },
  {
   "cell_type": "code",
   "execution_count": 17,
   "id": "d4f42557",
   "metadata": {},
   "outputs": [
    {
     "name": "stdout",
     "output_type": "stream",
     "text": [
      "{'leaf_size': 1, 'n_neighbors': 7, 'p': 1} 0.7038461538461538\n"
     ]
    }
   ],
   "source": [
    "#corss validation\n",
    "kf = KFold(n_splits = 5, shuffle = True, random_state=43)\n",
    "param_grid = {'leaf_size': np.arange(1, 50), 'n_neighbors':np.arange(1, 30), 'p':[1,2]}\n",
    "\n",
    "KNN = KNeighborsClassifier()\n",
    "KNN_cv = GridSearchCV(KNN, param_grid, cv = kf)\n",
    "KNN_cv.fit(X_train, y_train)\n",
    "print(KNN_cv.best_params_, KNN_cv.best_score_)"
   ]
  },
  {
   "cell_type": "markdown",
   "id": "49581f33",
   "metadata": {},
   "source": [
    "## Random forest"
   ]
  },
  {
   "cell_type": "code",
   "execution_count": 68,
   "id": "a47e22ce",
   "metadata": {},
   "outputs": [
    {
     "data": {
      "image/png": "[encoded data removed]",
      "text/plain": [
       "<Figure size 432x288 with 1 Axes>"
      ]
     },
     "metadata": {
      "needs_background": "light"
     },
     "output_type": "display_data"
    }
   ],
   "source": [
    "#paramter tuning for Random forest\n",
    "train_accuracies = {}\n",
    "test_accuracies = {}\n",
    "n = np.arange(50, 200, 10)\n",
    "\n",
    "#trying different values for the model paramter n_estimators, which are the number of individual decision trees used in random forest\n",
    "for estimator in n:\n",
    "    RFC = RandomForestClassifier(n_estimators = estimator)\n",
    "    RFC.fit(X_train, y_train)\n",
    "    train_accuracies[estimator] = RFC.score(X_train, y_train)\n",
    "    test_accuracies[estimator] = RFC.score(X_test, y_test)\n",
    "    \n",
    "#plotting the accuracies using different parameter values to account for underfitting or overfitting\n",
    "plt.title(\"Random Forest: Varying numbers of trees of the forest\")\n",
    "plt.plot(n, train_accuracies.values(), label = 'Training accuracy')\n",
    "plt.plot(n, test_accuracies.values(), label = 'Testing accuracy')\n",
    "plt.legend()\n",
    "plt.xlabel(\"Number of Estimators (trees)\")\n",
    "plt.ylabel(\"Accuracy\")\n",
    "plt.show()"
   ]
  },
  {
   "cell_type": "code",
   "execution_count": 21,
   "id": "e81104ab",
   "metadata": {},
   "outputs": [
    {
     "name": "stdout",
     "output_type": "stream",
     "text": [
      "{'bootstrap': False, 'max_depth': 11, 'n_estimators': 201} 0.6884615384615385\n"
     ]
    }
   ],
   "source": [
    "#cross validation\n",
    "kf = KFold(n_splits = 5, shuffle = True, random_state=43)\n",
    "param_grid = {'bootstrap': [True, False],\n",
    " 'max_depth': np.arange(1, 50, 10),\n",
    " 'n_estimators': np.arange(1, 500, 100)}\n",
    "\n",
    "RFC = RandomForestClassifier()\n",
    "RFC_cv = GridSearchCV(RFC, param_grid, cv = kf)\n",
    "RFC_cv.fit(X_train, y_train)\n",
    "print(RFC_cv.best_params_, RFC_cv.best_score_)"
   ]
  },
  {
   "cell_type": "code",
   "execution_count": null,
   "id": "0abedd18",
   "metadata": {},
   "outputs": [],
   "source": []
  },
  {
   "cell_type": "markdown",
   "id": "0f02b45c",
   "metadata": {},
   "source": [
    "## Model comparison"
   ]
  },
  {
   "cell_type": "code",
   "execution_count": 57,
   "id": "5c8ae58d",
   "metadata": {
    "scrolled": false
   },
   "outputs": [
    {
     "name": "stdout",
     "output_type": "stream",
     "text": [
      "KNN test accuracy 0.636\n",
      "Random Forest test accuracy 0.591\n",
      "SVC test accuracy 0.773\n"
     ]
    }
   ],
   "source": [
    "#comparing the model accuracy for the best parameters\n",
    "models = {'KNN': KNeighborsClassifier(leaf_size=1, n_neighbors=7, p=1), \n",
    "          'Random Forest': RandomForestClassifier(max_depth = 11, n_estimators =  201, bootstrap = False), \n",
    "          'SVC': SVC(C=10, gamma=0.01, kernel='rbf')}\n",
    "\n",
    "for name, model in models.items():\n",
    "    model.fit(X_train, y_train)\n",
    "    test_score = model.score(X_test, y_test)\n",
    "    print(f'{name} test accuracy {test_score:.3}')\n",
    "    "
   ]
  },
  {
   "cell_type": "code",
   "execution_count": null,
   "id": "c5017ca1",
   "metadata": {},
   "outputs": [],
   "source": []
  },
  {
   "cell_type": "markdown",
   "id": "80dbe94f",
   "metadata": {},
   "source": [
    "## Model Prediction"
   ]
  },
  {
   "cell_type": "code",
   "execution_count": 37,
   "id": "c3803458",
   "metadata": {},
   "outputs": [
    {
     "data": {
      "text/plain": [
       "array([1, 1, 0, ..., 0, 1, 0], dtype=int64)"
      ]
     },
     "execution_count": 37,
     "metadata": {},
     "output_type": "execute_result"
    }
   ],
   "source": [
    "#predicting the labels using the training data. I use SVC because it had the highest accruacy\n",
    "\n",
    "X = SBM_test.iloc[:, 1:]\n",
    "\n",
    "SVM = SVC(C=10, gamma=0.01, kernel='rbf')\n",
    "SVM.fit(X_train, y_train)\n",
    "y_pred = SVM.predict(X)\n",
    "y_pred"
   ]
  },
  {
   "cell_type": "code",
   "execution_count": 48,
   "id": "a20d2f91",
   "metadata": {},
   "outputs": [
    {
     "data": {
      "text/plain": [
       "(119748,)"
      ]
     },
     "execution_count": 48,
     "metadata": {},
     "output_type": "execute_result"
    }
   ],
   "source": [
    "y_pred.shape "
   ]
  },
  {
   "cell_type": "code",
   "execution_count": 56,
   "id": "1533f3ef",
   "metadata": {},
   "outputs": [
    {
     "data": {
      "image/png": "[encoded data removed]",
      "text/plain": [
       "<Figure size 576x432 with 1 Axes>"
      ]
     },
     "metadata": {
      "needs_background": "light"
     },
     "output_type": "display_data"
    }
   ],
   "source": [
    "#plotting the label classification using SVC\n",
    "\n",
    "y = [len(y_pred) - np.count_nonzero(y_pred), np.count_nonzero(y_pred)]\n",
    "x = ['Healhty', 'Schizophrenic']\n",
    "plt.figure(figsize = (8, 6))\n",
    "plt.bar(x, y, color = ['C0', 'C1'], edgecolor = 'black')\n",
    "plt.ylabel('Count')\n",
    "plt.xlabel('Label')\n",
    "plt.title('Predicted labels of the data using a SVM')\n",
    "plt.show()"
   ]
  }
 ],
 "metadata": {
  "kernelspec": {
   "display_name": "Python 3",
   "language": "python",
   "name": "python3"
  },
  "language_info": {
   "codemirror_mode": {
    "name": "ipython",
    "version": 3
   },
   "file_extension": ".py",
   "mimetype": "text/x-python",
   "name": "python",
   "nbconvert_exporter": "python",
   "pygments_lexer": "ipython3",
   "version": "3.8.8"
  }
 },
 "nbformat": 4,
 "nbformat_minor": 5
}
